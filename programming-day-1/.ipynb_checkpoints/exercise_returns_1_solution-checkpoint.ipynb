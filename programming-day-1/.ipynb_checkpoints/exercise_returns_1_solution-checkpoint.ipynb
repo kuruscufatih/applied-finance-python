{
 "cells": [
  {
   "cell_type": "markdown",
   "id": "a1544bfd-e827-4c1e-8d8d-a64e7678326d",
   "metadata": {},
   "source": [
    "# Exercise: Calculation of Returns for Apple Inc. (2015–2024)\n",
    "\n",
    "---"
   ]
  },
  {
   "cell_type": "markdown",
   "id": "d7f4c96d-13ab-466f-91c8-e78adb5fb5a6",
   "metadata": {},
   "source": [
    "## 📌 Context\n",
    "The file `exc_1_data.txt` located in `data/programming_day/` contains **annual closing prices of Apple Inc.** from **2015 to 2024**.  \n",
    "You will calculate and compare **arithmetic** and **logarithmic** returns, and visualize the results with a line chart.  \n",
    "\n",
    "---"
   ]
  },
  {
   "cell_type": "markdown",
   "id": "bc8f8a9e-c284-440f-873f-47c38e6957c2",
   "metadata": {},
   "source": [
    "## 📝 Step 1: Importing Libraries\n",
    "// Import necessary Python libraries.\n",
    "// These will help with data handling, mathematical operations, and plotting.  "
   ]
  },
  {
   "cell_type": "code",
   "execution_count": 24,
   "id": "a069f83e-5390-49fe-9e13-db33bb8b2af7",
   "metadata": {},
   "outputs": [],
   "source": [
    "import pandas as pd\n",
    "import numpy as np\n",
    "import plotly.graph_objects as go\n",
    "import plotly.io as pio\n",
    "import math as math"
   ]
  },
  {
   "cell_type": "markdown",
   "id": "8ca982ed-48c2-4eb8-86c4-46ba16334bb4",
   "metadata": {},
   "source": [
    "## 📝 Step 2: Loading the Data\n",
    "// Load the file `exc_1_data.txt` from the folder `data/programming_day/`.  \n",
    "// Display the dataset to check the structure (years and closing prices).  \n"
   ]
  },
  {
   "cell_type": "code",
   "execution_count": 25,
   "id": "4952118a-5295-4e7d-a38b-d4b3612c6aa2",
   "metadata": {},
   "outputs": [
    {
     "data": {
      "text/html": [
       "<div>\n",
       "<style scoped>\n",
       "    .dataframe tbody tr th:only-of-type {\n",
       "        vertical-align: middle;\n",
       "    }\n",
       "\n",
       "    .dataframe tbody tr th {\n",
       "        vertical-align: top;\n",
       "    }\n",
       "\n",
       "    .dataframe thead th {\n",
       "        text-align: right;\n",
       "    }\n",
       "</style>\n",
       "<table border=\"1\" class=\"dataframe\">\n",
       "  <thead>\n",
       "    <tr style=\"text-align: right;\">\n",
       "      <th></th>\n",
       "      <th>Company</th>\n",
       "      <th>Annual Closing Value</th>\n",
       "      <th>Year</th>\n",
       "    </tr>\n",
       "  </thead>\n",
       "  <tbody>\n",
       "    <tr>\n",
       "      <th>0</th>\n",
       "      <td>AAPL</td>\n",
       "      <td>23.76</td>\n",
       "      <td>2015</td>\n",
       "    </tr>\n",
       "    <tr>\n",
       "      <th>1</th>\n",
       "      <td>AAPL</td>\n",
       "      <td>26.72</td>\n",
       "      <td>2016</td>\n",
       "    </tr>\n",
       "    <tr>\n",
       "      <th>2</th>\n",
       "      <td>AAPL</td>\n",
       "      <td>39.67</td>\n",
       "      <td>2017</td>\n",
       "    </tr>\n",
       "    <tr>\n",
       "      <th>3</th>\n",
       "      <td>AAPL</td>\n",
       "      <td>37.53</td>\n",
       "      <td>2018</td>\n",
       "    </tr>\n",
       "    <tr>\n",
       "      <th>4</th>\n",
       "      <td>AAPL</td>\n",
       "      <td>70.92</td>\n",
       "      <td>2019</td>\n",
       "    </tr>\n",
       "    <tr>\n",
       "      <th>5</th>\n",
       "      <td>AAPL</td>\n",
       "      <td>129.29</td>\n",
       "      <td>2020</td>\n",
       "    </tr>\n",
       "    <tr>\n",
       "      <th>6</th>\n",
       "      <td>AAPL</td>\n",
       "      <td>174.09</td>\n",
       "      <td>2021</td>\n",
       "    </tr>\n",
       "    <tr>\n",
       "      <th>7</th>\n",
       "      <td>AAPL</td>\n",
       "      <td>128.12</td>\n",
       "      <td>2022</td>\n",
       "    </tr>\n",
       "    <tr>\n",
       "      <th>8</th>\n",
       "      <td>AAPL</td>\n",
       "      <td>190.91</td>\n",
       "      <td>2023</td>\n",
       "    </tr>\n",
       "    <tr>\n",
       "      <th>9</th>\n",
       "      <td>AAPL</td>\n",
       "      <td>249.53</td>\n",
       "      <td>2024</td>\n",
       "    </tr>\n",
       "  </tbody>\n",
       "</table>\n",
       "</div>"
      ],
      "text/plain": [
       "  Company  Annual Closing Value  Year\n",
       "0    AAPL                 23.76  2015\n",
       "1    AAPL                 26.72  2016\n",
       "2    AAPL                 39.67  2017\n",
       "3    AAPL                 37.53  2018\n",
       "4    AAPL                 70.92  2019\n",
       "5    AAPL                129.29  2020\n",
       "6    AAPL                174.09  2021\n",
       "7    AAPL                128.12  2022\n",
       "8    AAPL                190.91  2023\n",
       "9    AAPL                249.53  2024"
      ]
     },
     "metadata": {},
     "output_type": "display_data"
    }
   ],
   "source": [
    "path_to_data = \"./data/exc_1_data.txt\"\n",
    "df_apple = pd.read_csv(path_to_data)\n",
    "display(df_apple)"
   ]
  },
  {
   "cell_type": "markdown",
   "id": "299c0536-c5d2-46fc-8050-4b84c268f038",
   "metadata": {},
   "source": [
    "## 📝 Step 3: Calculating Arithmetic Returns\n",
    "// Use the formula:  \n",
    "// Arithmetic Return (year t) = (P_t – P_(t-1)) / P_(t-1)  \n",
    "// Calculate the yearly arithmetic returns and store them in a new column.  "
   ]
  },
  {
   "cell_type": "code",
   "execution_count": 26,
   "id": "20972095-4d18-4d60-ae75-d80c35997291",
   "metadata": {},
   "outputs": [],
   "source": [
    "def calc_arithmetic_return(prices) -> np.array:\n",
    "    \"\"\"Calculate the Arithmetic Return for a given Numpy Array of Closing Values.\n",
    "    Args:\n",
    "        price (float): Array of Closing Values\n",
    "    Returns:\n",
    "        str: For each year, the arithmetic return\n",
    "    \"\"\"\n",
    "    prices = np.array(prices, dtype=float)\n",
    "    returns = (prices[1:] - prices[:-1]) / prices[:-1]\n",
    "    return returns"
   ]
  },
  {
   "cell_type": "code",
   "execution_count": 27,
   "id": "41391c4f-6bc8-46a7-9146-bf1e7d5b7036",
   "metadata": {},
   "outputs": [
    {
     "data": {
      "text/plain": [
       "array([ 0.12457912,  0.48465569, -0.05394505,  0.88968825,  0.82304005,\n",
       "        0.34650785, -0.26405882,  0.49008742,  0.30705568])"
      ]
     },
     "execution_count": 27,
     "metadata": {},
     "output_type": "execute_result"
    }
   ],
   "source": [
    "arithmetic_returns = calc_arithmetic_return(df_apple[\"Annual Closing Value\"])\n",
    "arithmetic_returns"
   ]
  },
  {
   "cell_type": "markdown",
   "id": "8a59b0b3-054c-40c0-8c83-f2d740fbac50",
   "metadata": {},
   "source": [
    "## 📝 Step 4: Calculating Logarithmic Returns\n",
    "// Use the formula:  \n",
    "// Logarithmic Return (year t) = ln(P_t / P_(t-1))  \n",
    "// Calculate the yearly logarithmic returns and store them in another column.  \n"
   ]
  },
  {
   "cell_type": "code",
   "execution_count": 28,
   "id": "21348daa-24e8-4308-a22d-d710c65b6002",
   "metadata": {},
   "outputs": [],
   "source": [
    "def calc_log_return(prices) -> np.array:\n",
    "    \"\"\"Calculate the Logarithmic Return for a given Numpy Array of Closing Values.\n",
    "    Args:\n",
    "        price (float): Array of Closing Values\n",
    "    Returns:\n",
    "        str: For each year, the logaritmic return\n",
    "    \"\"\"\n",
    "    prices = np.array(prices, dtype=float)\n",
    "    returns = np.log(prices[1:] / prices[:-1])\n",
    "    return returns"
   ]
  },
  {
   "cell_type": "code",
   "execution_count": 29,
   "id": "ca2e39a0-a012-4111-8fc3-af50816597d9",
   "metadata": {},
   "outputs": [
    {
     "data": {
      "text/plain": [
       "array([ 0.11740885,  0.39518289, -0.05545462,  0.63641187,  0.60050546,\n",
       "        0.29751446, -0.30660508,  0.39883479,  0.26777704])"
      ]
     },
     "execution_count": 29,
     "metadata": {},
     "output_type": "execute_result"
    }
   ],
   "source": [
    "logarithmic_returns = calc_log_return(df_apple[\"Annual Closing Value\"])\n",
    "logarithmic_returns"
   ]
  },
  {
   "cell_type": "markdown",
   "id": "249bf33f-d121-4301-9033-a1ee1030092f",
   "metadata": {},
   "source": [
    "## 📝 Step 5: Visualizing the Results\n",
    "// Create a line chart that plots both arithmetic and logarithmic returns over time.  \n",
    "// Use labels, legends, and titles to make the chart clear and informative."
   ]
  },
  {
   "cell_type": "code",
   "execution_count": 30,
   "id": "927dccc6-9d30-470d-9740-c6e8e2c2d03c",
   "metadata": {},
   "outputs": [
    {
     "data": {
      "text/html": [
       "        <script type=\"text/javascript\">\n",
       "        window.PlotlyConfig = {MathJaxConfig: 'local'};\n",
       "        if (window.MathJax && window.MathJax.Hub && window.MathJax.Hub.Config) {window.MathJax.Hub.Config({SVG: {font: \"STIX-Web\"}});}\n",
       "        </script>\n",
       "        <script type=\"module\">import \"https://cdn.plot.ly/plotly-3.1.0.min\"</script>\n",
       "        "
      ]
     },
     "metadata": {},
     "output_type": "display_data"
    },
    {
     "data": {
      "text/html": [
       "<div>            <script src=\"https://cdnjs.cloudflare.com/ajax/libs/mathjax/2.7.5/MathJax.js?config=TeX-AMS-MML_SVG\"></script><script type=\"text/javascript\">if (window.MathJax && window.MathJax.Hub && window.MathJax.Hub.Config) {window.MathJax.Hub.Config({SVG: {font: \"STIX-Web\"}});}</script>                <script type=\"text/javascript\">window.PlotlyConfig = {MathJaxConfig: 'local'};</script>\n",
       "        <script charset=\"utf-8\" src=\"https://cdn.plot.ly/plotly-3.1.0.min.js\" integrity=\"sha256-Ei4740bWZhaUTQuD6q9yQlgVCMPBz6CZWhevDYPv93A=\" crossorigin=\"anonymous\"></script>                <div id=\"076ec494-8f2a-4069-b998-eaec6836fb26\" class=\"plotly-graph-div\" style=\"height:525px; width:100%;\"></div>            <script type=\"text/javascript\">                window.PLOTLYENV=window.PLOTLYENV || {};                                if (document.getElementById(\"076ec494-8f2a-4069-b998-eaec6836fb26\")) {                    Plotly.newPlot(                        \"076ec494-8f2a-4069-b998-eaec6836fb26\",                        [{\"hovertemplate\":\"Jahr: %{x}\\u003cbr\\u003eRendite: %{y:.2%}\\u003cextra\\u003e\\u003c\\u002fextra\\u003e\",\"marker\":{\"color\":[\"green\",\"green\",\"crimson\",\"green\",\"green\",\"green\",\"crimson\",\"green\",\"green\"]},\"name\":\"Arithmetische Rendite\",\"x\":{\"dtype\":\"i2\",\"bdata\":\"4AfhB+IH4wfkB+UH5gfnB+gH\"},\"y\":{\"dtype\":\"f8\",\"bdata\":\"+ObU4Wrkvz8zIB1LmQTfP3efJ2avnqu\\u002fCvDZfVN47D+bA6MTWFbqP0Tuf0MvLdY\\u002fGhIx91bm0L9y9Suel13fP4SSpt7MptM\\u002f\"},\"yaxis\":\"y\",\"type\":\"bar\"},{\"hovertemplate\":\"Jahr: %{x}\\u003cbr\\u003eLog-Rendite: %{y:.2%}\\u003cextra\\u003e\\u003c\\u002fextra\\u003e\",\"marker\":{\"color\":\"gray\"},\"name\":\"Logarithmische Rendite\",\"x\":{\"dtype\":\"i2\",\"bdata\":\"4AfhB+IH4wfkB+UH5gfnB+gH\"},\"y\":{\"dtype\":\"f8\",\"bdata\":\"rivwtIEOvj8YrqworUrZP6XueFKMZKy\\u002fPzMDbHxd5D8GzxM7VzfjP2YU0Rp6CtM\\u002fWjIi7Gqf07\\u002fH7c9YgobZP7q\\u002fq0pCI9E\\u002f\"},\"yaxis\":\"y\",\"type\":\"bar\"},{\"hovertemplate\":\"Jahr: %{x}\\u003cbr\\u003eKurs: %{y:.2f} USD\\u003cextra\\u003e\\u003c\\u002fextra\\u003e\",\"line\":{\"color\":\"royalblue\",\"width\":2},\"mode\":\"lines+markers\",\"name\":\"Apple Aktienkurs\",\"x\":{\"dtype\":\"i2\",\"bdata\":\"3wfgB+EH4gfjB+QH5QfmB+cH6Ac=\"},\"y\":{\"dtype\":\"f8\",\"bdata\":\"w\\u002fUoXI\\u002fCN0C4HoXrUbg6QPYoXI\\u002fC1UNApHA9CtfDQkB7FK5H4bpRQOF6FK5HKWBAexSuR+HCZUCkcD0K1wNgQIXrUbge3WdAKVyPwvUwb0A=\"},\"yaxis\":\"y2\",\"type\":\"scatter\"}],                        {\"hovermode\":\"x unified\",\"legend\":{\"x\":0.01,\"y\":0.99},\"template\":{\"data\":{\"barpolar\":[{\"marker\":{\"line\":{\"color\":\"rgb(237,237,237)\",\"width\":0.5},\"pattern\":{\"fillmode\":\"overlay\",\"size\":10,\"solidity\":0.2}},\"type\":\"barpolar\"}],\"bar\":[{\"error_x\":{\"color\":\"rgb(51,51,51)\"},\"error_y\":{\"color\":\"rgb(51,51,51)\"},\"marker\":{\"line\":{\"color\":\"rgb(237,237,237)\",\"width\":0.5},\"pattern\":{\"fillmode\":\"overlay\",\"size\":10,\"solidity\":0.2}},\"type\":\"bar\"}],\"carpet\":[{\"aaxis\":{\"endlinecolor\":\"rgb(51,51,51)\",\"gridcolor\":\"white\",\"linecolor\":\"white\",\"minorgridcolor\":\"white\",\"startlinecolor\":\"rgb(51,51,51)\"},\"baxis\":{\"endlinecolor\":\"rgb(51,51,51)\",\"gridcolor\":\"white\",\"linecolor\":\"white\",\"minorgridcolor\":\"white\",\"startlinecolor\":\"rgb(51,51,51)\"},\"type\":\"carpet\"}],\"choropleth\":[{\"colorbar\":{\"outlinewidth\":0,\"tickcolor\":\"rgb(237,237,237)\",\"ticklen\":6,\"ticks\":\"inside\"},\"type\":\"choropleth\"}],\"contourcarpet\":[{\"colorbar\":{\"outlinewidth\":0,\"tickcolor\":\"rgb(237,237,237)\",\"ticklen\":6,\"ticks\":\"inside\"},\"type\":\"contourcarpet\"}],\"contour\":[{\"colorbar\":{\"outlinewidth\":0,\"tickcolor\":\"rgb(237,237,237)\",\"ticklen\":6,\"ticks\":\"inside\"},\"colorscale\":[[0,\"rgb(20,44,66)\"],[1,\"rgb(90,179,244)\"]],\"type\":\"contour\"}],\"heatmap\":[{\"colorbar\":{\"outlinewidth\":0,\"tickcolor\":\"rgb(237,237,237)\",\"ticklen\":6,\"ticks\":\"inside\"},\"colorscale\":[[0,\"rgb(20,44,66)\"],[1,\"rgb(90,179,244)\"]],\"type\":\"heatmap\"}],\"histogram2dcontour\":[{\"colorbar\":{\"outlinewidth\":0,\"tickcolor\":\"rgb(237,237,237)\",\"ticklen\":6,\"ticks\":\"inside\"},\"colorscale\":[[0,\"rgb(20,44,66)\"],[1,\"rgb(90,179,244)\"]],\"type\":\"histogram2dcontour\"}],\"histogram2d\":[{\"colorbar\":{\"outlinewidth\":0,\"tickcolor\":\"rgb(237,237,237)\",\"ticklen\":6,\"ticks\":\"inside\"},\"colorscale\":[[0,\"rgb(20,44,66)\"],[1,\"rgb(90,179,244)\"]],\"type\":\"histogram2d\"}],\"histogram\":[{\"marker\":{\"pattern\":{\"fillmode\":\"overlay\",\"size\":10,\"solidity\":0.2}},\"type\":\"histogram\"}],\"mesh3d\":[{\"colorbar\":{\"outlinewidth\":0,\"tickcolor\":\"rgb(237,237,237)\",\"ticklen\":6,\"ticks\":\"inside\"},\"type\":\"mesh3d\"}],\"parcoords\":[{\"line\":{\"colorbar\":{\"outlinewidth\":0,\"tickcolor\":\"rgb(237,237,237)\",\"ticklen\":6,\"ticks\":\"inside\"}},\"type\":\"parcoords\"}],\"pie\":[{\"automargin\":true,\"type\":\"pie\"}],\"scatter3d\":[{\"line\":{\"colorbar\":{\"outlinewidth\":0,\"tickcolor\":\"rgb(237,237,237)\",\"ticklen\":6,\"ticks\":\"inside\"}},\"marker\":{\"colorbar\":{\"outlinewidth\":0,\"tickcolor\":\"rgb(237,237,237)\",\"ticklen\":6,\"ticks\":\"inside\"}},\"type\":\"scatter3d\"}],\"scattercarpet\":[{\"marker\":{\"colorbar\":{\"outlinewidth\":0,\"tickcolor\":\"rgb(237,237,237)\",\"ticklen\":6,\"ticks\":\"inside\"}},\"type\":\"scattercarpet\"}],\"scattergeo\":[{\"marker\":{\"colorbar\":{\"outlinewidth\":0,\"tickcolor\":\"rgb(237,237,237)\",\"ticklen\":6,\"ticks\":\"inside\"}},\"type\":\"scattergeo\"}],\"scattergl\":[{\"marker\":{\"colorbar\":{\"outlinewidth\":0,\"tickcolor\":\"rgb(237,237,237)\",\"ticklen\":6,\"ticks\":\"inside\"}},\"type\":\"scattergl\"}],\"scattermapbox\":[{\"marker\":{\"colorbar\":{\"outlinewidth\":0,\"tickcolor\":\"rgb(237,237,237)\",\"ticklen\":6,\"ticks\":\"inside\"}},\"type\":\"scattermapbox\"}],\"scattermap\":[{\"marker\":{\"colorbar\":{\"outlinewidth\":0,\"tickcolor\":\"rgb(237,237,237)\",\"ticklen\":6,\"ticks\":\"inside\"}},\"type\":\"scattermap\"}],\"scatterpolargl\":[{\"marker\":{\"colorbar\":{\"outlinewidth\":0,\"tickcolor\":\"rgb(237,237,237)\",\"ticklen\":6,\"ticks\":\"inside\"}},\"type\":\"scatterpolargl\"}],\"scatterpolar\":[{\"marker\":{\"colorbar\":{\"outlinewidth\":0,\"tickcolor\":\"rgb(237,237,237)\",\"ticklen\":6,\"ticks\":\"inside\"}},\"type\":\"scatterpolar\"}],\"scatter\":[{\"fillpattern\":{\"fillmode\":\"overlay\",\"size\":10,\"solidity\":0.2},\"type\":\"scatter\"}],\"scatterternary\":[{\"marker\":{\"colorbar\":{\"outlinewidth\":0,\"tickcolor\":\"rgb(237,237,237)\",\"ticklen\":6,\"ticks\":\"inside\"}},\"type\":\"scatterternary\"}],\"surface\":[{\"colorbar\":{\"outlinewidth\":0,\"tickcolor\":\"rgb(237,237,237)\",\"ticklen\":6,\"ticks\":\"inside\"},\"colorscale\":[[0,\"rgb(20,44,66)\"],[1,\"rgb(90,179,244)\"]],\"type\":\"surface\"}],\"table\":[{\"cells\":{\"fill\":{\"color\":\"rgb(237,237,237)\"},\"line\":{\"color\":\"white\"}},\"header\":{\"fill\":{\"color\":\"rgb(217,217,217)\"},\"line\":{\"color\":\"white\"}},\"type\":\"table\"}]},\"layout\":{\"annotationdefaults\":{\"arrowhead\":0,\"arrowwidth\":1},\"autotypenumbers\":\"strict\",\"coloraxis\":{\"colorbar\":{\"outlinewidth\":0,\"tickcolor\":\"rgb(237,237,237)\",\"ticklen\":6,\"ticks\":\"inside\"}},\"colorscale\":{\"sequential\":[[0,\"rgb(20,44,66)\"],[1,\"rgb(90,179,244)\"]],\"sequentialminus\":[[0,\"rgb(20,44,66)\"],[1,\"rgb(90,179,244)\"]]},\"colorway\":[\"#F8766D\",\"#A3A500\",\"#00BF7D\",\"#00B0F6\",\"#E76BF3\"],\"font\":{\"color\":\"rgb(51,51,51)\"},\"geo\":{\"bgcolor\":\"white\",\"lakecolor\":\"white\",\"landcolor\":\"rgb(237,237,237)\",\"showlakes\":true,\"showland\":true,\"subunitcolor\":\"white\"},\"hoverlabel\":{\"align\":\"left\"},\"hovermode\":\"closest\",\"paper_bgcolor\":\"white\",\"plot_bgcolor\":\"rgb(237,237,237)\",\"polar\":{\"angularaxis\":{\"gridcolor\":\"white\",\"linecolor\":\"white\",\"showgrid\":true,\"tickcolor\":\"rgb(51,51,51)\",\"ticks\":\"outside\"},\"bgcolor\":\"rgb(237,237,237)\",\"radialaxis\":{\"gridcolor\":\"white\",\"linecolor\":\"white\",\"showgrid\":true,\"tickcolor\":\"rgb(51,51,51)\",\"ticks\":\"outside\"}},\"scene\":{\"xaxis\":{\"backgroundcolor\":\"rgb(237,237,237)\",\"gridcolor\":\"white\",\"gridwidth\":2,\"linecolor\":\"white\",\"showbackground\":true,\"showgrid\":true,\"tickcolor\":\"rgb(51,51,51)\",\"ticks\":\"outside\",\"zerolinecolor\":\"white\"},\"yaxis\":{\"backgroundcolor\":\"rgb(237,237,237)\",\"gridcolor\":\"white\",\"gridwidth\":2,\"linecolor\":\"white\",\"showbackground\":true,\"showgrid\":true,\"tickcolor\":\"rgb(51,51,51)\",\"ticks\":\"outside\",\"zerolinecolor\":\"white\"},\"zaxis\":{\"backgroundcolor\":\"rgb(237,237,237)\",\"gridcolor\":\"white\",\"gridwidth\":2,\"linecolor\":\"white\",\"showbackground\":true,\"showgrid\":true,\"tickcolor\":\"rgb(51,51,51)\",\"ticks\":\"outside\",\"zerolinecolor\":\"white\"}},\"shapedefaults\":{\"fillcolor\":\"black\",\"line\":{\"width\":0},\"opacity\":0.3},\"ternary\":{\"aaxis\":{\"gridcolor\":\"white\",\"linecolor\":\"white\",\"showgrid\":true,\"tickcolor\":\"rgb(51,51,51)\",\"ticks\":\"outside\"},\"baxis\":{\"gridcolor\":\"white\",\"linecolor\":\"white\",\"showgrid\":true,\"tickcolor\":\"rgb(51,51,51)\",\"ticks\":\"outside\"},\"bgcolor\":\"rgb(237,237,237)\",\"caxis\":{\"gridcolor\":\"white\",\"linecolor\":\"white\",\"showgrid\":true,\"tickcolor\":\"rgb(51,51,51)\",\"ticks\":\"outside\"}},\"xaxis\":{\"automargin\":true,\"gridcolor\":\"white\",\"linecolor\":\"white\",\"showgrid\":true,\"tickcolor\":\"rgb(51,51,51)\",\"ticks\":\"outside\",\"title\":{\"standoff\":15},\"zerolinecolor\":\"white\"},\"yaxis\":{\"automargin\":true,\"gridcolor\":\"white\",\"linecolor\":\"white\",\"showgrid\":true,\"tickcolor\":\"rgb(51,51,51)\",\"ticks\":\"outside\",\"title\":{\"standoff\":15},\"zerolinecolor\":\"white\"}}},\"title\":{\"text\":\"Apple: Rendite vs. Aktienkurs\"},\"xaxis\":{\"title\":{\"text\":\"Jahr\"}},\"yaxis\":{\"side\":\"left\",\"tickformat\":\".0%\",\"title\":{\"text\":\"Rendite\"}},\"yaxis2\":{\"overlaying\":\"y\",\"side\":\"right\",\"title\":{\"text\":\"Aktienkurs (USD)\"}}},                        {\"responsive\": true}                    ).then(function(){\n",
       "                            \n",
       "var gd = document.getElementById('076ec494-8f2a-4069-b998-eaec6836fb26');\n",
       "var x = new MutationObserver(function (mutations, observer) {{\n",
       "        var display = window.getComputedStyle(gd).display;\n",
       "        if (!display || display === 'none') {{\n",
       "            console.log([gd, 'removed!']);\n",
       "            Plotly.purge(gd);\n",
       "            observer.disconnect();\n",
       "        }}\n",
       "}});\n",
       "\n",
       "// Listen for the removal of the full notebook cells\n",
       "var notebookContainer = gd.closest('#notebook-container');\n",
       "if (notebookContainer) {{\n",
       "    x.observe(notebookContainer, {childList: true});\n",
       "}}\n",
       "\n",
       "// Listen for the clearing of the current output cell\n",
       "var outputEl = gd.closest('.output');\n",
       "if (outputEl) {{\n",
       "    x.observe(outputEl, {childList: true});\n",
       "}}\n",
       "\n",
       "                        })                };            </script>        </div>"
      ]
     },
     "metadata": {},
     "output_type": "display_data"
    }
   ],
   "source": [
    "# Renderer für Jupyter Notebook\n",
    "pio.renderers.default = 'notebook_connected'\n",
    "\n",
    "# Balkendiagramm für Renditen\n",
    "bar_trace = go.Bar(\n",
    "    x=df_apple[\"Year\"][1:],\n",
    "    y=arithmetic_returns,\n",
    "    name='Arithmetische Rendite',\n",
    "    marker_color=['green' if r >= 0 else 'crimson' for r in arithmetic_returns],\n",
    "    yaxis='y1',\n",
    "    hovertemplate='Jahr: %{x}<br>Rendite: %{y:.2%}<extra></extra>'\n",
    ")\n",
    "\n",
    "bar_trace_log = go.Bar(\n",
    "    x=df_apple[\"Year\"][1:],  # gleiche Jahre wie bei arithmetischer Rendite\n",
    "    y=logarithmic_returns,\n",
    "    name='Logarithmische Rendite',\n",
    "    marker_color='gray',\n",
    "    yaxis='y1',\n",
    "    hovertemplate='Jahr: %{x}<br>Log-Rendite: %{y:.2%}<extra></extra>'\n",
    ")\n",
    "\n",
    "# Linienchart für Aktienkurs\n",
    "line_trace = go.Scatter(\n",
    "    x=df_apple[\"Year\"],\n",
    "    y=df_apple[\"Annual Closing Value\"],\n",
    "    name='Apple Aktienkurs',\n",
    "    mode='lines+markers',\n",
    "    line=dict(color='royalblue', width=2),\n",
    "    yaxis='y2',\n",
    "    hovertemplate='Jahr: %{x}<br>Kurs: %{y:.2f} USD<extra></extra>'\n",
    ")\n",
    "\n",
    "# Layout mit ggplot2-Template\n",
    "layout = go.Layout(\n",
    "    title=\"Apple: Rendite vs. Aktienkurs\",\n",
    "    xaxis=dict(title=\"Jahr\"),\n",
    "    yaxis=dict(\n",
    "        title=\"Rendite\",\n",
    "        tickformat=\".0%\",\n",
    "        side=\"left\"\n",
    "    ),\n",
    "    yaxis2=dict(\n",
    "        title=\"Aktienkurs (USD)\",\n",
    "        overlaying=\"y\",\n",
    "        side=\"right\"\n",
    "    ),\n",
    "    template=\"ggplot2\",\n",
    "    hovermode=\"x unified\",\n",
    "    legend=dict(x=0.01, y=0.99)\n",
    ")\n",
    "\n",
    "# Diagramm anzeigen\n",
    "fig = go.Figure(data=[bar_trace, bar_trace_log, line_trace], layout=layout)\n",
    "fig.show()"
   ]
  },
  {
   "cell_type": "markdown",
   "id": "db365061-e728-444b-9b4e-6267fa1be844",
   "metadata": {},
   "source": [
    "## 📝 Step 6: Interpretation & Insights\n",
    "// Answer the following questions:  \n",
    "// - Which return metric (arithmetic vs logarithmic) is more conservative?  \n",
    "// - How do the annual patterns compare?  \n",
    "// - What insights can be drawn about Apple’s performance over 2015–2024? "
   ]
  },
  {
   "cell_type": "markdown",
   "id": "ad27cdbb-a2c3-40eb-adf8-b133fb98980a",
   "metadata": {},
   "source": [
    "Versuche das Diagram über Dir zu versteheb. Wieso ist das mal größer mal niedriger? Hat das was mit dem Log zutun? Sicherlich!\n",
    "\n",
    "- Auf steigende Kurs weniger Einfluss, auf sinkende Mehr"
   ]
  },
  {
   "cell_type": "markdown",
   "id": "1c06f86b-7bca-4e1c-a014-8ee69b11b40e",
   "metadata": {},
   "source": [
    "## ✅ Outcome\n",
    "By completing this exercise, you will:  \n",
    "- Understand the calculation of arithmetic and logarithmic returns.  \n",
    "- Be able to visualize and compare different return metrics.  \n",
    "- Gain insights into **Apple’s long-term stock performance**.  "
   ]
  }
 ],
 "metadata": {
  "kernelspec": {
   "display_name": "Python 3 (ipykernel)",
   "language": "python",
   "name": "python3"
  },
  "language_info": {
   "codemirror_mode": {
    "name": "ipython",
    "version": 3
   },
   "file_extension": ".py",
   "mimetype": "text/x-python",
   "name": "python",
   "nbconvert_exporter": "python",
   "pygments_lexer": "ipython3",
   "version": "3.13.7"
  }
 },
 "nbformat": 4,
 "nbformat_minor": 5
}
