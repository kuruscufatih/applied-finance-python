{
 "cells": [
  {
   "cell_type": "markdown",
   "id": "abbbf658-c186-425a-9e0a-3b0c846a16f9",
   "metadata": {
    "vscode": {
     "languageId": "plaintext"
    }
   },
   "source": [
    "### Maximum Drawdown – Definition\n",
    "\n",
    "Maximum Drawdown (MDD) measures the largest observed loss from a portfolio’s peak value to its subsequent trough before a new peak is reached.\n",
    "\n",
    "It answers the question: *\"How much could I have lost if I bought at the top and sold at the bottom?\"*\n",
    "\n",
    "Formula:\n",
    "MDD = (Peak - Trough) / Peak"
   ]
  },
  {
   "cell_type": "code",
   "execution_count": 14,
   "id": "805b07b0-feb4-4a19-a325-7844d5cc955f",
   "metadata": {},
   "outputs": [
    {
     "data": {
      "text/html": [
       "<div>\n",
       "<style scoped>\n",
       "    .dataframe tbody tr th:only-of-type {\n",
       "        vertical-align: middle;\n",
       "    }\n",
       "\n",
       "    .dataframe tbody tr th {\n",
       "        vertical-align: top;\n",
       "    }\n",
       "\n",
       "    .dataframe thead th {\n",
       "        text-align: right;\n",
       "    }\n",
       "</style>\n",
       "<table border=\"1\" class=\"dataframe\">\n",
       "  <thead>\n",
       "    <tr style=\"text-align: right;\">\n",
       "      <th></th>\n",
       "      <th>Date</th>\n",
       "      <th>Value</th>\n",
       "    </tr>\n",
       "  </thead>\n",
       "  <tbody>\n",
       "    <tr>\n",
       "      <th>0</th>\n",
       "      <td>2023-01-31</td>\n",
       "      <td>5.0</td>\n",
       "    </tr>\n",
       "    <tr>\n",
       "      <th>1</th>\n",
       "      <td>2023-02-28</td>\n",
       "      <td>6.0</td>\n",
       "    </tr>\n",
       "    <tr>\n",
       "      <th>2</th>\n",
       "      <td>2023-03-31</td>\n",
       "      <td>7.0</td>\n",
       "    </tr>\n",
       "    <tr>\n",
       "      <th>3</th>\n",
       "      <td>2023-04-30</td>\n",
       "      <td>10.0</td>\n",
       "    </tr>\n",
       "    <tr>\n",
       "      <th>4</th>\n",
       "      <td>2023-05-31</td>\n",
       "      <td>11.0</td>\n",
       "    </tr>\n",
       "  </tbody>\n",
       "</table>\n",
       "</div>"
      ],
      "text/plain": [
       "        Date  Value\n",
       "0 2023-01-31    5.0\n",
       "1 2023-02-28    6.0\n",
       "2 2023-03-31    7.0\n",
       "3 2023-04-30   10.0\n",
       "4 2023-05-31   11.0"
      ]
     },
     "execution_count": 14,
     "metadata": {},
     "output_type": "execute_result"
    }
   ],
   "source": []
  },
  {
   "cell_type": "markdown",
   "id": "d9d3c9d9-ae0a-46c1-900f-d3fdb77e2556",
   "metadata": {},
   "source": [
    "### 📝 Task: Define Key Variables for Maximum Drawdown Visualization\n",
    "\n",
    "To complete the drawdown analysis and enable proper visualization, you need to define the following variables based on your portfolio data:\n",
    "\n",
    "- `peak_date`: The date when the portfolio reached its highest value before the drawdown began.\n",
    "- `trough_date`: The date when the portfolio hit its lowest value during the drawdown.\n",
    "- `peak_value`: The portfolio value at the peak.\n",
    "- `trough_value`: The portfolio value at the trough.\n",
    "\n",
    "These variables are essential for highlighting the drawdown path in the Plotly chart and calculating the Maximum Drawdown accurately."
   ]
  },
  {
   "cell_type": "code",
   "execution_count": 27,
   "id": "4548a9a8-ed73-4cf6-9112-a7702a2dbf47",
   "metadata": {},
   "outputs": [],
   "source": [
    "# TODO: Calculate the mentioned variables."
   ]
  },
  {
   "cell_type": "code",
   "execution_count": 1,
   "id": "7b712e83-7ddf-482b-a0e0-f86b5f6b5fec",
   "metadata": {},
   "outputs": [
    {
     "ename": "NameError",
     "evalue": "name 'go' is not defined",
     "output_type": "error",
     "traceback": [
      "\u001b[31m---------------------------------------------------------------------------\u001b[39m",
      "\u001b[31mNameError\u001b[39m                                 Traceback (most recent call last)",
      "\u001b[36mCell\u001b[39m\u001b[36m \u001b[39m\u001b[32mIn[1]\u001b[39m\u001b[32m, line 1\u001b[39m\n\u001b[32m----> \u001b[39m\u001b[32m1\u001b[39m fig = \u001b[43mgo\u001b[49m.Figure()\n\u001b[32m      3\u001b[39m \u001b[38;5;66;03m# Portfolio value line\u001b[39;00m\n\u001b[32m      4\u001b[39m fig.add_trace(go.Scatter(x=df_portfolio[\u001b[33m'\u001b[39m\u001b[33mDate\u001b[39m\u001b[33m'\u001b[39m], y=df_portfolio[\u001b[33m'\u001b[39m\u001b[33mValue\u001b[39m\u001b[33m'\u001b[39m],\n\u001b[32m      5\u001b[39m                          mode=\u001b[33m'\u001b[39m\u001b[33mlines+markers\u001b[39m\u001b[33m'\u001b[39m,\n\u001b[32m      6\u001b[39m                          name=\u001b[33m'\u001b[39m\u001b[33mPortfolio Value\u001b[39m\u001b[33m'\u001b[39m))\n",
      "\u001b[31mNameError\u001b[39m: name 'go' is not defined"
     ]
    }
   ],
   "source": [
    "fig = go.Figure()\n",
    "\n",
    "# Portfolio value line\n",
    "fig.add_trace(go.Scatter(x=df_portfolio['Date'], y=df_portfolio['Value'],\n",
    "                         mode='lines+markers',\n",
    "                         name='Portfolio Value'))\n",
    "\n",
    "# Mark the peak\n",
    "# fig.add_trace(go.Scatter(x=[peak_date], y=[peak_value],\n",
    "#                          mode='markers',\n",
    "#                          marker=dict(color='green', size=12),\n",
    "#                          name='Peak'))\n",
    "\n",
    "# # Mark the trough\n",
    "# fig.add_trace(go.Scatter(x=[trough_date], y=[trough_value],\n",
    "#                          mode='markers',\n",
    "#                          marker=dict(color='red', size=12),\n",
    "#                          name='Trough'))\n",
    "\n",
    "# Add title with MDD\n",
    "fig.update_layout(\n",
    "    title=f\"Maximum Drawdown: {max_drawdown:.2%}\",\n",
    "    xaxis_title=\"Date\",\n",
    "    yaxis_title=\"Portfolio Value (Million €)\",\n",
    "    legend_title=\"\",\n",
    "    template=\"plotly_white\"\n",
    ")\n",
    "\n",
    "fig.show()"
   ]
  }
 ],
 "metadata": {
  "kernelspec": {
   "display_name": "Python 3 (ipykernel)",
   "language": "python",
   "name": "python3"
  },
  "language_info": {
   "codemirror_mode": {
    "name": "ipython",
    "version": 3
   },
   "file_extension": ".py",
   "mimetype": "text/x-python",
   "name": "python",
   "nbconvert_exporter": "python",
   "pygments_lexer": "ipython3",
   "version": "3.13.7"
  }
 },
 "nbformat": 4,
 "nbformat_minor": 5
}
