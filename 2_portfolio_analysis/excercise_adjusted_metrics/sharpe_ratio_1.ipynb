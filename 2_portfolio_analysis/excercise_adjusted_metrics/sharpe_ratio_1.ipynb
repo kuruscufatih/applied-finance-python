{
 "cells": [
  {
   "cell_type": "markdown",
   "id": "8c80f8ac-3ba2-4187-8d52-4c6b714f7be7",
   "metadata": {},
   "source": [
    "### Imports"
   ]
  },
  {
   "cell_type": "code",
   "execution_count": 1,
   "id": "935974e1",
   "metadata": {
    "vscode": {
     "languageId": "plaintext"
    }
   },
   "outputs": [],
   "source": [
    "import yfinance as yf\n",
    "import pandas as pd\n",
    "import numpy as np"
   ]
  },
  {
   "cell_type": "markdown",
   "id": "07c5bedc-4f0d-40d9-be75-1722963cd1a6",
   "metadata": {},
   "source": [
    "### 🧭 Step 1: Define Portfolio Structure\n",
    "\n",
    "In this first step, you will set up the basic structure of your portfolio analysis.\n",
    "\n",
    "- Specify the **stock tickers** you want to include in your portfolio. In this case, we are analyzing six companies: Microsoft, Apple, Sony, Meta, Amazon, and Tesla.\n",
    "- Define the **time period** for the analysis using a start and end date.\n",
    "- Download the **historical closing prices** for each stock using a financial data provider (e.g. `yfinance`).\n",
    "- Assign the **portfolio weights** to each stock. These weights represent the proportion of your total investment allocated to each asset.\n",
    "\n",
    "💡 Make sure the weights sum up to 1.0 (or 100 %) to reflect a fully invested portfolio."
   ]
  },
  {
   "cell_type": "code",
   "execution_count": 9,
   "id": "f5127a16-9ad7-4482-88f3-db6427ae2f29",
   "metadata": {},
   "outputs": [
    {
     "ename": "SyntaxError",
     "evalue": "invalid syntax (860272296.py, line 7)",
     "output_type": "error",
     "traceback": [
      "  \u001b[36mCell\u001b[39m\u001b[36m \u001b[39m\u001b[32mIn[9]\u001b[39m\u001b[32m, line 7\u001b[39m\n\u001b[31m    \u001b[39m\u001b[31mportfolio_prices = pass # TODO\u001b[39m\n                       ^\n\u001b[31mSyntaxError\u001b[39m\u001b[31m:\u001b[39m invalid syntax\n"
     ]
    }
   ],
   "source": [
    "# 📦 Stock Ticker List\n",
    "tickers = 'MSFT AAPL SONY META AMZN TSLA'\n",
    "start_date = '2021-06-01'\n",
    "end_date = '2021-12-01'\n",
    "\n",
    "# 📈 Download historical closing prices\n",
    "portfolio_prices = # TODO\n",
    "\n",
    "# 🧮 Portfolio allocation as Array (weights for each stock)\n",
    "portfolio_weights = # TODO []"
   ]
  },
  {
   "cell_type": "markdown",
   "id": "114b875c-17a9-4cdf-acc8-d3368c54a25b",
   "metadata": {},
   "source": [
    "### 📈 Step 2: Calculate Daily Returns\n",
    "\n",
    "In this step, you will compute the **daily percentage returns** for each stock in the portfolio.\n",
    "\n",
    "- Use the `.pct_change()` method to calculate the **day-over-day return** for each asset.\n",
    "- Apply `.dropna()` to remove any missing values that result from the first row (which has no prior day to compare).\n",
    "- The result will be a DataFrame where each column represents a stock and each row shows its daily return.\n",
    "\n",
    "💡 These daily returns are the foundation for evaluating portfolio performance, risk, and metrics like the Sharpe Ratio."
   ]
  },
  {
   "cell_type": "code",
   "execution_count": null,
   "id": "13a72008-ab48-4cf0-b3e0-21afdf1b564d",
   "metadata": {},
   "outputs": [],
   "source": [
    "# TODO"
   ]
  },
  {
   "cell_type": "markdown",
   "id": "c58b8973-8c7d-4a82-ac6b-03209456eedf",
   "metadata": {},
   "source": [
    "### 📊 Step 3: Calculate Daily Portfolio Returns\n",
    "\n",
    "Now that you have the daily returns for each individual stock, it's time to compute the **overall daily return of the portfolio**.\n",
    "\n",
    "- Use the `dot()` function to multiply the daily returns by the portfolio weights.\n",
    "- This operation performs a **weighted sum** across all assets for each day.\n",
    "- The result is a single time series representing the **daily return of the entire portfolio**.\n",
    "\n",
    "💡 This step reflects how your portfolio would have performed each day, based on the chosen allocation."
   ]
  },
  {
   "cell_type": "code",
   "execution_count": null,
   "id": "a422525b-b7f4-4918-aaef-2a5ba03d1c2c",
   "metadata": {},
   "outputs": [],
   "source": [
    "# TODO"
   ]
  },
  {
   "cell_type": "markdown",
   "id": "aedd810e-0759-4421-b5e9-58777d3113bd",
   "metadata": {
    "jp-MarkdownHeadingCollapsed": true
   },
   "source": [
    "### 📐 Step 4: Calculate the Sharpe Ratio\n",
    "\n",
    "In this final step, you will evaluate the **risk-adjusted performance** of the portfolio using the **Sharpe Ratio**.\n",
    "\n",
    "Follow these steps:\n",
    "\n",
    "1. **Annualize the volatility** of the portfolio using the standard deviation of daily returns multiplied by √252.\n",
    "2. Define the **risk-free rate**, e.g. 2.714 % (you can adjust this based on current market conditions).\n",
    "3. **Annualize the portfolio return** by multiplying the mean daily return by 252.\n",
    "4. Use the Sharpe Ratio formula:\n",
    "\n",
    "\\[\n",
    "\\text{Sharpe Ratio} = \\frac{\\text{Annual Return} - \\text{Risk-Free Rate}}{\\text{Annual Volatility}}\n",
    "\\]\n",
    "\n",
    "The Sharpe Ratio tells you how much **excess return** you are earning per unit of risk.  \n",
    "A higher value indicates a more attractive risk-adjusted performance.\n",
    "\n",
    "💡 Tip: Try changing the portfolio weights or time period to see how the Sharpe Ratio responds."
   ]
  },
  {
   "cell_type": "code",
   "execution_count": null,
   "id": "887d3397-eef5-4988-938c-444026f3952f",
   "metadata": {},
   "outputs": [],
   "source": [
    "# TODO"
   ]
  }
 ],
 "metadata": {
  "kernelspec": {
   "display_name": "Python 3 (ipykernel)",
   "language": "python",
   "name": "python3"
  },
  "language_info": {
   "codemirror_mode": {
    "name": "ipython",
    "version": 3
   },
   "file_extension": ".py",
   "mimetype": "text/x-python",
   "name": "python",
   "nbconvert_exporter": "python",
   "pygments_lexer": "ipython3",
   "version": "3.13.7"
  }
 },
 "nbformat": 4,
 "nbformat_minor": 5
}
