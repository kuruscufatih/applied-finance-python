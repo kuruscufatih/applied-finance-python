{
 "cells": [
  {
   "cell_type": "code",
   "execution_count": null,
   "id": "8aeb87cf-e9bd-422b-ad5a-217da24c2428",
   "metadata": {},
   "outputs": [
    {
     "name": "stderr",
     "output_type": "stream",
     "text": [
      "C:\\Users\\fatih\\AppData\\Local\\Temp\\ipykernel_12328\\3011234006.py:10: FutureWarning: YF.download() has changed argument auto_adjust default to True\n",
      "  data = yf.download(tickers, start=start_date, end=end_date, interval='1d')['Adj Close']\n"
     ]
    }
   ],
   "source": [
    "import yfinance as yf\n",
    "import pandas as pd\n",
    "\n",
    "# Define tickers and date range\n",
    "tickers = ['ARKK', 'SPY']  # You can add more tickers here\n",
    "start_date = '2020-01-01'\n",
    "end_date = '2024-12-31'\n",
    "\n",
    "# Download daily adjusted close prices\n",
    "data = yf.download(tickers, start=start_date, end=end_date, interval='1d')['Adj Close']\n",
    "\n",
    "# Drop rows with missing values (optional)\n",
    "data_clean = data.dropna()\n",
    "\n",
    "# Display the first few rows\n",
    "print(data_clean.head())"
   ]
  }
 ],
 "metadata": {
  "kernelspec": {
   "display_name": "Python 3 (ipykernel)",
   "language": "python",
   "name": "python3"
  },
  "language_info": {
   "codemirror_mode": {
    "name": "ipython",
    "version": 3
   },
   "file_extension": ".py",
   "mimetype": "text/x-python",
   "name": "python",
   "nbconvert_exporter": "python",
   "pygments_lexer": "ipython3",
   "version": "3.13.7"
  }
 },
 "nbformat": 4,
 "nbformat_minor": 5
}
