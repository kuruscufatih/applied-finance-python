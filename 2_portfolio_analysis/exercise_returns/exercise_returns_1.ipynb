{
 "cells": [
  {
   "cell_type": "markdown",
   "id": "a1544bfd-e827-4c1e-8d8d-a64e7678326d",
   "metadata": {},
   "source": [
    "# Exercise: Calculation of Returns for Apple Inc. (2015–2024)\n",
    "\n",
    "---"
   ]
  },
  {
   "cell_type": "markdown",
   "id": "d7f4c96d-13ab-466f-91c8-e78adb5fb5a6",
   "metadata": {},
   "source": [
    "## 📌 Context\n",
    "The file `exc_1_data.txt` located in `data/programming_day/` contains **annual closing prices of Apple Inc.** from **2015 to 2024**.  \n",
    "You will calculate and compare **arithmetic** and **logarithmic** returns, and visualize the results with a line chart.  \n",
    "\n",
    "---"
   ]
  },
  {
   "cell_type": "markdown",
   "id": "bc8f8a9e-c284-440f-873f-47c38e6957c2",
   "metadata": {},
   "source": [
    "## 📝 Step 1: Importing Libraries\n",
    "// Import necessary Python libraries.\n",
    "// These will help with data handling, mathematical operations, and plotting.  "
   ]
  },
  {
   "cell_type": "code",
   "execution_count": null,
   "id": "a069f83e-5390-49fe-9e13-db33bb8b2af7",
   "metadata": {},
   "outputs": [],
   "source": []
  },
  {
   "cell_type": "markdown",
   "id": "8ca982ed-48c2-4eb8-86c4-46ba16334bb4",
   "metadata": {},
   "source": [
    "## 📝 Step 2: Loading the Data\n",
    "// Load the file `exc_1_data.txt` from the folder `data/programming_day/`.  \n",
    "// Display the dataset to check the structure (years and closing prices).  \n"
   ]
  },
  {
   "cell_type": "code",
   "execution_count": null,
   "id": "4952118a-5295-4e7d-a38b-d4b3612c6aa2",
   "metadata": {},
   "outputs": [],
   "source": []
  },
  {
   "cell_type": "markdown",
   "id": "299c0536-c5d2-46fc-8050-4b84c268f038",
   "metadata": {},
   "source": [
    "## 📝 Step 3: Calculating Arithmetic Returns\n",
    "// Use the formula:  \n",
    "// Arithmetic Return (year t) = (P_t – P_(t-1)) / P_(t-1)  \n",
    "// Calculate the yearly arithmetic returns and store them in a new column.  "
   ]
  },
  {
   "cell_type": "code",
   "execution_count": null,
   "id": "20972095-4d18-4d60-ae75-d80c35997291",
   "metadata": {},
   "outputs": [],
   "source": []
  },
  {
   "cell_type": "markdown",
   "id": "8a59b0b3-054c-40c0-8c83-f2d740fbac50",
   "metadata": {},
   "source": [
    "## 📝 Step 4: Calculating Logarithmic Returns\n",
    "// Use the formula:  \n",
    "// Logarithmic Return (year t) = ln(P_t / P_(t-1))  \n",
    "// Calculate the yearly logarithmic returns and store them in another column.  \n"
   ]
  },
  {
   "cell_type": "code",
   "execution_count": null,
   "id": "21348daa-24e8-4308-a22d-d710c65b6002",
   "metadata": {},
   "outputs": [],
   "source": []
  },
  {
   "cell_type": "code",
   "execution_count": null,
   "id": "5b36aec6-7195-4202-8a0a-3f15822cbc6f",
   "metadata": {},
   "outputs": [],
   "source": []
  },
  {
   "cell_type": "markdown",
   "id": "249bf33f-d121-4301-9033-a1ee1030092f",
   "metadata": {},
   "source": [
    "## 📝 Step 5: Visualizing the Results\n",
    "// Create a line chart that plots both arithmetic and logarithmic returns over time.  \n",
    "// Use labels, legends, and titles to make the chart clear and informative."
   ]
  },
  {
   "cell_type": "code",
   "execution_count": null,
   "id": "927dccc6-9d30-470d-9740-c6e8e2c2d03c",
   "metadata": {},
   "outputs": [],
   "source": []
  },
  {
   "cell_type": "markdown",
   "id": "db365061-e728-444b-9b4e-6267fa1be844",
   "metadata": {},
   "source": [
    "## 📝 Step 6: Interpretation & Insights\n",
    "// Answer the following questions:  \n",
    "// - Which return metric (arithmetic vs logarithmic) is more conservative?  \n",
    "// - How do the annual patterns compare?  \n",
    "// - What insights can be drawn about Apple’s performance over 2015–2024? "
   ]
  },
  {
   "cell_type": "code",
   "execution_count": null,
   "id": "902f4c39-c787-47db-b262-c48c998521cc",
   "metadata": {},
   "outputs": [],
   "source": []
  },
  {
   "cell_type": "markdown",
   "id": "1c06f86b-7bca-4e1c-a014-8ee69b11b40e",
   "metadata": {},
   "source": [
    "## ✅ Outcome\n",
    "By completing this exercise, you will:  \n",
    "- Understand the calculation of arithmetic and logarithmic returns.  \n",
    "- Be able to visualize and compare different return metrics.  \n",
    "- Gain insights into **Apple’s long-term stock performance**.  "
   ]
  }
 ],
 "metadata": {
  "kernelspec": {
   "display_name": "Python 3 (ipykernel)",
   "language": "python",
   "name": "python3"
  },
  "language_info": {
   "codemirror_mode": {
    "name": "ipython",
    "version": 3
   },
   "file_extension": ".py",
   "mimetype": "text/x-python",
   "name": "python",
   "nbconvert_exporter": "python",
   "pygments_lexer": "ipython3",
   "version": "3.13.7"
  }
 },
 "nbformat": 4,
 "nbformat_minor": 5
}
